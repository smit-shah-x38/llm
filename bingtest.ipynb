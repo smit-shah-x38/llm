{
 "cells": [
  {
   "cell_type": "code",
   "execution_count": 2,
   "metadata": {},
   "outputs": [
    {
     "name": "stdout",
     "output_type": "stream",
     "text": [
      "[('Messi', 'PERSON'), ('Argentine', 'NORP'), ('Spanish', 'NORP'), ('Barcelona', 'GPE'), ('Argentina', 'GPE')]\n"
     ]
    }
   ],
   "source": [
    "# Import libraries\n",
    "import spacy\n",
    "import textacy\n",
    "import networkx as nx\n",
    "import pandas as pd\n",
    "import matplotlib.pyplot as plt\n",
    "\n",
    "# Load spacy model\n",
    "nlp = spacy.load(\"en_core_web_sm\")\n",
    "\n",
    "# Define text\n",
    "text = \"Lionel Messi is an Argentine professional footballer who plays as a forward and captains both Spanish club Barcelona and the Argentina national team.\"\n",
    "\n",
    "# Create spacy doc object\n",
    "doc = nlp(text)\n",
    "\n",
    "# Extract entities\n",
    "entities = [(ent.text, ent.label_) for ent in doc.ents]\n",
    "print(entities)\n",
    "# [('Lionel Messi', 'PERSON'), ('Argentine', 'NORP'), ('Spanish', 'NORP'), ('Barcelona', 'ORG'), ('Argentina', 'GPE')]\n"
   ]
  },
  {
   "cell_type": "code",
   "execution_count": 4,
   "metadata": {},
   "outputs": [
    {
     "name": "stdout",
     "output_type": "stream",
     "text": [
      "[]\n",
      "Empty DataFrame\n",
      "Columns: [source, relation, target]\n",
      "Index: []\n"
     ]
    }
   ],
   "source": [
    "# Extract relations\n",
    "relations = textacy.extract.subject_verb_object_triples(doc)\n",
    "print(list(relations))\n",
    "# [(Lionel Messi, plays, forward), (Lionel Messi, captains, club), (Lionel Messi, captains, team)]\n",
    "\n",
    "# Create a dataframe of relations\n",
    "kg_df = pd.DataFrame.from_records(list(relations), columns=[\"source\", \"relation\", \"target\"])\n",
    "print(kg_df)"
   ]
  },
  {
   "cell_type": "code",
   "execution_count": null,
   "metadata": {},
   "outputs": [],
   "source": []
  }
 ],
 "metadata": {
  "kernelspec": {
   "display_name": "llmenv",
   "language": "python",
   "name": "python3"
  },
  "language_info": {
   "codemirror_mode": {
    "name": "ipython",
    "version": 3
   },
   "file_extension": ".py",
   "mimetype": "text/x-python",
   "name": "python",
   "nbconvert_exporter": "python",
   "pygments_lexer": "ipython3",
   "version": "3.11.4"
  },
  "orig_nbformat": 4
 },
 "nbformat": 4,
 "nbformat_minor": 2
}
