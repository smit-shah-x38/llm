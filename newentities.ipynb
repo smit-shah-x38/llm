{
 "cells": [
  {
   "cell_type": "code",
   "execution_count": 11,
   "metadata": {},
   "outputs": [
    {
     "name": "stdout",
     "output_type": "stream",
     "text": [
      "The Don Vito Corleone NP\n",
      "a character NP\n",
      "the movie NP\n",
      "Marlon Brando NP\n",
      "the Godfather NP\n"
     ]
    }
   ],
   "source": [
    "# Import the spaCy library\n",
    "import spacy\n",
    "\n",
    "# Load the English language model\n",
    "nlp = spacy.load(\"en_core_web_sm\")\n",
    "\n",
    "# Define a sentence\n",
    "sentence = \"The Don Vito Corleone is a character in the movie starring Marlon Brando called the Godfather.\"\n",
    "\n",
    "# Parse the sentence using spaCy\n",
    "doc = nlp(sentence)\n",
    "\n",
    "# Print the text and label of each noun phrase\n",
    "for chunk in doc.noun_chunks:\n",
    "  print(chunk.text, chunk.label_)\n"
   ]
  },
  {
   "cell_type": "code",
   "execution_count": null,
   "metadata": {},
   "outputs": [],
   "source": []
  },
  {
   "cell_type": "code",
   "execution_count": null,
   "metadata": {},
   "outputs": [],
   "source": []
  }
 ],
 "metadata": {
  "kernelspec": {
   "display_name": "venv",
   "language": "python",
   "name": "python3"
  },
  "language_info": {
   "codemirror_mode": {
    "name": "ipython",
    "version": 3
   },
   "file_extension": ".py",
   "mimetype": "text/x-python",
   "name": "python",
   "nbconvert_exporter": "python",
   "pygments_lexer": "ipython3",
   "version": "3.11.4"
  },
  "orig_nbformat": 4
 },
 "nbformat": 4,
 "nbformat_minor": 2
}
