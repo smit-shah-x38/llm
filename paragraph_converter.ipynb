{
 "cells": [
  {
   "cell_type": "code",
   "execution_count": 1,
   "metadata": {},
   "outputs": [],
   "source": [
    "import pandas as pd\n",
    "import os"
   ]
  },
  {
   "cell_type": "code",
   "execution_count": 2,
   "metadata": {},
   "outputs": [],
   "source": [
    "text_file = r\"E:\\Work\\workbackups\\llm\\ayurveda2.txt\""
   ]
  },
  {
   "cell_type": "code",
   "execution_count": 3,
   "metadata": {},
   "outputs": [],
   "source": [
    "with open(text_file, \"r\") as f:\n",
    "    paragraph = f.read().strip()"
   ]
  },
  {
   "cell_type": "code",
   "execution_count": 4,
   "metadata": {},
   "outputs": [
    {
     "data": {
      "text/plain": [
       "'Ayurveda is an ancient healing system.It means the science of life.It helps people to stay healthy.It uses natural methods like herbs, diet, yoga, and massage.Ayurveda considers the mind, body, and spirit of each person.It says that everyone has a different type of energy.There are three types of energy called vata, pitta, and kapha.They affect how a person thinks, feels, and acts.They also affect the health and balance of the body.Ayurveda helps people to find out their type of energy and how to balance it.It also helps people to prevent and treat diseases.Ayurveda is not a scientific system.It is based on beliefs and traditions.Some people may find it helpful, but others may not find it useful.It is important to consult a doctor before using ayurveda.'"
      ]
     },
     "execution_count": 4,
     "metadata": {},
     "output_type": "execute_result"
    }
   ],
   "source": [
    "paragraph"
   ]
  },
  {
   "cell_type": "code",
   "execution_count": 5,
   "metadata": {},
   "outputs": [],
   "source": [
    "sentences = [s.strip() for s in paragraph.split(\".\") if s]"
   ]
  },
  {
   "cell_type": "code",
   "execution_count": 6,
   "metadata": {},
   "outputs": [
    {
     "data": {
      "text/plain": [
       "['Ayurveda is an ancient healing system',\n",
       " 'It means the science of life',\n",
       " 'It helps people to stay healthy',\n",
       " 'It uses natural methods like herbs, diet, yoga, and massage',\n",
       " 'Ayurveda considers the mind, body, and spirit of each person',\n",
       " 'It says that everyone has a different type of energy',\n",
       " 'There are three types of energy called vata, pitta, and kapha',\n",
       " 'They affect how a person thinks, feels, and acts',\n",
       " 'They also affect the health and balance of the body',\n",
       " 'Ayurveda helps people to find out their type of energy and how to balance it',\n",
       " 'It also helps people to prevent and treat diseases',\n",
       " 'Ayurveda is not a scientific system',\n",
       " 'It is based on beliefs and traditions',\n",
       " 'Some people may find it helpful, but others may not find it useful',\n",
       " 'It is important to consult a doctor before using ayurveda']"
      ]
     },
     "execution_count": 6,
     "metadata": {},
     "output_type": "execute_result"
    }
   ],
   "source": [
    "sentences"
   ]
  },
  {
   "cell_type": "code",
   "execution_count": 7,
   "metadata": {},
   "outputs": [],
   "source": [
    "df = pd.DataFrame(sentences, columns=[\"sentence\"])"
   ]
  },
  {
   "cell_type": "code",
   "execution_count": 8,
   "metadata": {},
   "outputs": [
    {
     "data": {
      "text/html": [
       "<div>\n",
       "<style scoped>\n",
       "    .dataframe tbody tr th:only-of-type {\n",
       "        vertical-align: middle;\n",
       "    }\n",
       "\n",
       "    .dataframe tbody tr th {\n",
       "        vertical-align: top;\n",
       "    }\n",
       "\n",
       "    .dataframe thead th {\n",
       "        text-align: right;\n",
       "    }\n",
       "</style>\n",
       "<table border=\"1\" class=\"dataframe\">\n",
       "  <thead>\n",
       "    <tr style=\"text-align: right;\">\n",
       "      <th></th>\n",
       "      <th>sentence</th>\n",
       "    </tr>\n",
       "  </thead>\n",
       "  <tbody>\n",
       "    <tr>\n",
       "      <th>0</th>\n",
       "      <td>Ayurveda is an ancient healing system</td>\n",
       "    </tr>\n",
       "    <tr>\n",
       "      <th>1</th>\n",
       "      <td>It means the science of life</td>\n",
       "    </tr>\n",
       "    <tr>\n",
       "      <th>2</th>\n",
       "      <td>It helps people to stay healthy</td>\n",
       "    </tr>\n",
       "    <tr>\n",
       "      <th>3</th>\n",
       "      <td>It uses natural methods like herbs, diet, yoga...</td>\n",
       "    </tr>\n",
       "    <tr>\n",
       "      <th>4</th>\n",
       "      <td>Ayurveda considers the mind, body, and spirit ...</td>\n",
       "    </tr>\n",
       "    <tr>\n",
       "      <th>5</th>\n",
       "      <td>It says that everyone has a different type of ...</td>\n",
       "    </tr>\n",
       "    <tr>\n",
       "      <th>6</th>\n",
       "      <td>There are three types of energy called vata, p...</td>\n",
       "    </tr>\n",
       "    <tr>\n",
       "      <th>7</th>\n",
       "      <td>They affect how a person thinks, feels, and acts</td>\n",
       "    </tr>\n",
       "    <tr>\n",
       "      <th>8</th>\n",
       "      <td>They also affect the health and balance of the...</td>\n",
       "    </tr>\n",
       "    <tr>\n",
       "      <th>9</th>\n",
       "      <td>Ayurveda helps people to find out their type o...</td>\n",
       "    </tr>\n",
       "    <tr>\n",
       "      <th>10</th>\n",
       "      <td>It also helps people to prevent and treat dise...</td>\n",
       "    </tr>\n",
       "    <tr>\n",
       "      <th>11</th>\n",
       "      <td>Ayurveda is not a scientific system</td>\n",
       "    </tr>\n",
       "    <tr>\n",
       "      <th>12</th>\n",
       "      <td>It is based on beliefs and traditions</td>\n",
       "    </tr>\n",
       "    <tr>\n",
       "      <th>13</th>\n",
       "      <td>Some people may find it helpful, but others ma...</td>\n",
       "    </tr>\n",
       "    <tr>\n",
       "      <th>14</th>\n",
       "      <td>It is important to consult a doctor before usi...</td>\n",
       "    </tr>\n",
       "  </tbody>\n",
       "</table>\n",
       "</div>"
      ],
      "text/plain": [
       "                                             sentence\n",
       "0               Ayurveda is an ancient healing system\n",
       "1                        It means the science of life\n",
       "2                     It helps people to stay healthy\n",
       "3   It uses natural methods like herbs, diet, yoga...\n",
       "4   Ayurveda considers the mind, body, and spirit ...\n",
       "5   It says that everyone has a different type of ...\n",
       "6   There are three types of energy called vata, p...\n",
       "7    They affect how a person thinks, feels, and acts\n",
       "8   They also affect the health and balance of the...\n",
       "9   Ayurveda helps people to find out their type o...\n",
       "10  It also helps people to prevent and treat dise...\n",
       "11                Ayurveda is not a scientific system\n",
       "12              It is based on beliefs and traditions\n",
       "13  Some people may find it helpful, but others ma...\n",
       "14  It is important to consult a doctor before usi..."
      ]
     },
     "execution_count": 8,
     "metadata": {},
     "output_type": "execute_result"
    }
   ],
   "source": [
    "df"
   ]
  },
  {
   "cell_type": "code",
   "execution_count": 9,
   "metadata": {},
   "outputs": [],
   "source": [
    "df.to_csv(\"ayurveda_two.csv\")"
   ]
  },
  {
   "cell_type": "code",
   "execution_count": null,
   "metadata": {},
   "outputs": [],
   "source": []
  }
 ],
 "metadata": {
  "kernelspec": {
   "display_name": "Python 3",
   "language": "python",
   "name": "python3"
  },
  "language_info": {
   "codemirror_mode": {
    "name": "ipython",
    "version": 3
   },
   "file_extension": ".py",
   "mimetype": "text/x-python",
   "name": "python",
   "nbconvert_exporter": "python",
   "pygments_lexer": "ipython3",
   "version": "3.11.6"
  }
 },
 "nbformat": 4,
 "nbformat_minor": 2
}
